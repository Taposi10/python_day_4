{
 "cells": [
  {
   "cell_type": "code",
   "execution_count": 4,
   "id": "0fa41ce9-4cf6-4c71-92c3-e5a897028f1f",
   "metadata": {},
   "outputs": [
    {
     "name": "stdout",
     "output_type": "stream",
     "text": [
      "Fibonacci sequence: 0 1 1 2 3 5 8 13 21 34 "
     ]
    }
   ],
   "source": [
    "#print fibonacci sequence\n",
    "num1=0\n",
    "num2=1\n",
    "num=10\n",
    "print(\"Fibonacci sequence:\", num1,num2, end=\" \")\n",
    "for i in range(2,num):\n",
    "        num=num1+num2\n",
    "        num1=num2\n",
    "        num2=num\n",
    "        print(num,end=\" \")       "
   ]
  },
  {
   "cell_type": "code",
   "execution_count": 5,
   "id": "33ceeb4a-48f9-4299-91fe-ad6b67181412",
   "metadata": {},
   "outputs": [
    {
     "name": "stdin",
     "output_type": "stream",
     "text": [
      "Enter a number: 523\n"
     ]
    },
    {
     "name": "stdout",
     "output_type": "stream",
     "text": [
      "It is not an armstrong number\n"
     ]
    }
   ],
   "source": [
    "# Check If the Number is Armstrong or Not for three digit?\n",
    "num=int(input(\"Enter a number:\"))\n",
    "sum=0\n",
    "temp=num\n",
    "while temp>0:\n",
    "    digit=temp%10\n",
    "    cube=digit**3\n",
    "    sum=sum+cube\n",
    "    temp//=10\n",
    "if sum==num:\n",
    "    print(\"It is an armstrong number\")\n",
    "else:\n",
    "    print(\"It is not an armstrong number\")\n",
    "    \n",
    "    "
   ]
  },
  {
   "cell_type": "code",
   "execution_count": 1,
   "id": "8e3c954a-8958-4f34-a242-3c9b033236b6",
   "metadata": {},
   "outputs": [
    {
     "name": "stdin",
     "output_type": "stream",
     "text": [
      "Enter the lower limit 100\n",
      "Enter the upper limit 1000\n"
     ]
    },
    {
     "name": "stdout",
     "output_type": "stream",
     "text": [
      "153 is the  Armstrong number\n",
      "370 is the  Armstrong number\n",
      "371 is the  Armstrong number\n",
      "407 is the  Armstrong number\n"
     ]
    }
   ],
   "source": [
    "#find armstrong number in an interval\n",
    "lower=int(input(\"Enter the lower limit\"))\n",
    "upper=int(input(\"Enter the upper limit\"))\n",
    "for num in range(lower, upper+1):\n",
    "    order=len(str(num))\n",
    "    sum=0\n",
    "    temp=num\n",
    "    while temp>0:\n",
    "        digit=temp%10\n",
    "        sum+=digit**order\n",
    "        temp//=10\n",
    "    if num==sum:\n",
    "        print(num, \"is the  Armstrong number\")\n",
    "    '''else:\n",
    "        print(num,\" is not a armstrong\")'''\n",
    "    #armstrong number\n",
    "\n",
    "        \n",
    "        \n",
    "\n",
    "\n",
    "    \n",
    "    \n"
   ]
  },
  {
   "cell_type": "code",
   "execution_count": 3,
   "id": "5ee0c6a0-09f2-4db3-99b3-d3c0e342b2bb",
   "metadata": {},
   "outputs": [
    {
     "name": "stdin",
     "output_type": "stream",
     "text": [
      "Enter the last value of the natural number 4\n"
     ]
    },
    {
     "name": "stdout",
     "output_type": "stream",
     "text": [
      "10\n"
     ]
    }
   ],
   "source": [
    "#Sum of Natural Numbers\n",
    "num=int(input(\"Enter the last value of the natural number\"))\n",
    "if num==0:\n",
    "    print(\"Enter positive integer\")\n",
    "else:\n",
    "    sum=0\n",
    "    while num >0:\n",
    "        sum+=num\n",
    "        num-=1\n",
    "    print(sum)\n",
    "        \n",
    "        \n",
    "\n",
    "        "
   ]
  },
  {
   "cell_type": "code",
   "execution_count": null,
   "id": "786e391a-933d-45a0-9a18-e970c0b2a0c8",
   "metadata": {},
   "outputs": [],
   "source": []
  },
  {
   "cell_type": "code",
   "execution_count": null,
   "id": "a2a7420c-0eb2-4491-84cc-198d0fd9b297",
   "metadata": {},
   "outputs": [],
   "source": []
  },
  {
   "cell_type": "code",
   "execution_count": null,
   "id": "7103624b-7a52-404f-8c58-8c037cc22d29",
   "metadata": {},
   "outputs": [],
   "source": []
  },
  {
   "cell_type": "code",
   "execution_count": null,
   "id": "02cfa72c-cd6c-449e-805d-2e0f5045be9d",
   "metadata": {},
   "outputs": [],
   "source": []
  },
  {
   "cell_type": "code",
   "execution_count": null,
   "id": "62d94aad-bbc2-4dd7-ab76-7a0941cb2b86",
   "metadata": {},
   "outputs": [],
   "source": []
  },
  {
   "cell_type": "code",
   "execution_count": null,
   "id": "ffcc3fa5-f9d6-4da3-b737-2fae11b02187",
   "metadata": {},
   "outputs": [],
   "source": []
  }
 ],
 "metadata": {
  "kernelspec": {
   "display_name": "Python 3 (ipykernel)",
   "language": "python",
   "name": "python3"
  },
  "language_info": {
   "codemirror_mode": {
    "name": "ipython",
    "version": 3
   },
   "file_extension": ".py",
   "mimetype": "text/x-python",
   "name": "python",
   "nbconvert_exporter": "python",
   "pygments_lexer": "ipython3",
   "version": "3.11.4"
  }
 },
 "nbformat": 4,
 "nbformat_minor": 5
}
